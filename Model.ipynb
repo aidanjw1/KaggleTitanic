{
 "cells": [
  {
   "cell_type": "code",
   "execution_count": 4,
   "metadata": {},
   "outputs": [],
   "source": [
    "import csv\n",
    "import numpy as np\n",
    "\n",
    "dataList = []\n",
    "with open('./train.csv', 'rb') as csvfile:\n",
    "    spamreader = csv.reader(csvfile, delimiter=',', quotechar='\"')\n",
    "    for row in spamreader:\n",
    "        dataList.append(row)\n",
    "\n",
    "people = []\n",
    "header = True\n",
    "\n",
    "for row in dataList:\n",
    "    if not header:\n",
    "        dic = {}\n",
    "        dic['PassengerId'] = row[0]\n",
    "        dic['Survived'] = row[1]\n",
    "        dic['Pclass'] = row[2]\n",
    "        dic['Name'] = row[3]\n",
    "        dic['Sex'] = row[4]\n",
    "        dic['Age'] = row[5]\n",
    "        dic['FamSize'] = int(row[6]) + int(row[7])\n",
    "        dic['Ticket'] = row[8]\n",
    "        dic['Fare'] = row[9]\n",
    "        dic['Cabin'] = row[10]\n",
    "        dic['Embarked'] = row[11]\n",
    "        people.append(dic)\n",
    "\n",
    "    else:\n",
    "        header = False\n",
    "\n",
    "\n",
    "for person in people:\n",
    "    if person['Sex'] == \"male\":\n",
    "        person['Sex'] = 0\n",
    "    else:\n",
    "        person['Sex'] = 1\n",
    "\n",
    "#print people\n",
    "\n",
    "def get_target_list():\n",
    "    target_list = []\n",
    "    for person in sorted(people):\n",
    "        try:\n",
    "            target_list.append(int(person['Survived']))\n",
    "        except:\n",
    "            print person['Survived']\n",
    "\n",
    "    #print target_list\n",
    "    return target_list\n",
    "\n",
    "peeps = []\n",
    "for person in sorted(people):\n",
    "    try:\n",
    "        peeps.append([int(float(person['Age'])//10), person['Sex'], int(person['Pclass'])])\n",
    "    except:\n",
    "        continue\n",
    "#print sorted(peeps)"
   ]
  },
  {
   "cell_type": "code",
   "execution_count": 8,
   "metadata": {},
   "outputs": [
    {
     "name": "stdout",
     "output_type": "stream",
     "text": [
      "<type 'numpy.ndarray'>\n",
      "<type 'numpy.ndarray'>\n"
     ]
    }
   ],
   "source": [
    "#print get_target_list()\n",
    "\n",
    "target = np.array(get_target_list())\n",
    "data = np.array(sorted(peeps))\n",
    "print type(target)\n",
    "print type(data)"
   ]
  },
  {
   "cell_type": "code",
   "execution_count": 9,
   "metadata": {},
   "outputs": [
    {
     "name": "stdout",
     "output_type": "stream",
     "text": [
      "(891,)\n",
      "(714, 3)\n"
     ]
    }
   ],
   "source": [
    "print target.shape\n",
    "print data.shape"
   ]
  },
  {
   "cell_type": "code",
   "execution_count": null,
   "metadata": {
    "collapsed": true
   },
   "outputs": [],
   "source": []
  }
 ],
 "metadata": {
  "kernelspec": {
   "display_name": "Python 2",
   "language": "python",
   "name": "python2"
  },
  "language_info": {
   "codemirror_mode": {
    "name": "ipython",
    "version": 2
   },
   "file_extension": ".py",
   "mimetype": "text/x-python",
   "name": "python",
   "nbconvert_exporter": "python",
   "pygments_lexer": "ipython2",
   "version": "2.7.13"
  }
 },
 "nbformat": 4,
 "nbformat_minor": 2
}
